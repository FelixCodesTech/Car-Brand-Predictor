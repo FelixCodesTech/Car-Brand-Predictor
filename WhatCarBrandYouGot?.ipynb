{
 "cells": [
  {
   "cell_type": "code",
   "execution_count": 11,
   "id": "5328c91a",
   "metadata": {},
   "outputs": [],
   "source": [
    "import pandas as pd\n",
    "import matplotlib.pyplot as plt\n",
    "from sklearn.tree import DecisionTreeClassifier\n",
    "from sklearn.model_selection import train_test_split\n",
    "from sklearn.datasets import load_iris\n",
    "from sklearn import tree"
   ]
  },
  {
   "cell_type": "code",
   "execution_count": 2,
   "id": "28fe629c",
   "metadata": {},
   "outputs": [],
   "source": [
    "dataFilePath = \"dataPrepped.csv\"\n",
    "dataFrame = pd.read_csv(dataFilePath, index_col=0)\n",
    "\n",
    "y = dataFrame[\"brand\"]\n",
    "X = dataFrame.drop(\"brand\", axis=1)"
   ]
  },
  {
   "cell_type": "code",
   "execution_count": 3,
   "id": "d7e3aabc",
   "metadata": {},
   "outputs": [
    {
     "data": {
      "text/plain": [
       "DecisionTreeClassifier(max_depth=10, random_state=0)"
      ]
     },
     "execution_count": 3,
     "metadata": {},
     "output_type": "execute_result"
    }
   ],
   "source": [
    "dataModel = DecisionTreeClassifier(random_state=0, max_depth=10)\n",
    "dataModel.fit(X, y)"
   ]
  },
  {
   "cell_type": "code",
   "execution_count": 4,
   "id": "32971623",
   "metadata": {},
   "outputs": [
    {
     "name": "stderr",
     "output_type": "stream",
     "text": [
      "/opt/anaconda3/lib/python3.9/site-packages/sklearn/base.py:450: UserWarning: X does not have valid feature names, but DecisionTreeClassifier was fitted with feature names\n",
      "  warnings.warn(\n"
     ]
    },
    {
     "data": {
      "text/plain": [
       "array(['BMW'], dtype=object)"
      ]
     },
     "execution_count": 4,
     "metadata": {},
     "output_type": "execute_result"
    }
   ],
   "source": [
    "### Testing\n",
    "price = 100000\n",
    "year = 2020\n",
    "mileage = 20000\n",
    "\n",
    "dataModel.predict([[price, year, mileage]])"
   ]
  },
  {
   "cell_type": "code",
   "execution_count": 5,
   "id": "a32a97ab",
   "metadata": {},
   "outputs": [
    {
     "name": "stdout",
     "output_type": "stream",
     "text": [
      "55.34591194968554 % accuracy 🧐👍\n"
     ]
    }
   ],
   "source": [
    "### Evaluating\n",
    "X_train, X_test, y_train, y_test = train_test_split(X, y, random_state=0, train_size=0.8)\n",
    "\n",
    "score = dataModel.score(X_test, y_test)\n",
    "print(score*100, \"% accuracy 🧐👍\")"
   ]
  },
  {
   "cell_type": "code",
   "execution_count": null,
   "id": "36688467",
   "metadata": {},
   "outputs": [],
   "source": [
    "plt.figure(figsize=(12,12))  # set plot size (denoted in inches)\n",
    "tree.plot_tree(dataModel, fontsize=10)\n",
    "plt.show()"
   ]
  },
  {
   "cell_type": "code",
   "execution_count": null,
   "id": "45d8a23d",
   "metadata": {},
   "outputs": [],
   "source": []
  }
 ],
 "metadata": {
  "kernelspec": {
   "display_name": "Python 3 (ipykernel)",
   "language": "python",
   "name": "python3"
  },
  "language_info": {
   "codemirror_mode": {
    "name": "ipython",
    "version": 3
   },
   "file_extension": ".py",
   "mimetype": "text/x-python",
   "name": "python",
   "nbconvert_exporter": "python",
   "pygments_lexer": "ipython3",
   "version": "3.9.13"
  }
 },
 "nbformat": 4,
 "nbformat_minor": 5
}
